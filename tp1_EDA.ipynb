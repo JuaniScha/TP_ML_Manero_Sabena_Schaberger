{
 "cells": [
  {
   "cell_type": "markdown",
   "id": "44a6cca0",
   "metadata": {},
   "source": [
    "# TP 1 - Análisis Exploratorio de Datos\n",
    "## Formula 1 World Championship (1950 - 2023)\n",
    "El dataset elegido contiene toda la información acerca de las carreras de Fórmula 1, pilotos, constructores, clasificación, circuitos, tiempos de vuelta, paradas en boxes y campeonatos desde 1950 hasta la última temporada de 2023.\n",
    "El mismo cuenta con 14 archivos csv, de los cuales decidimos usar solamente algunos. Esto se debe a que vamos a tratar de predecir si la posición final del piloto va a estar o no en el podio, por lo que pensamos hacer la predicción en el momento que está finalizada la clasificación, con los datos disponibles hasta ese momento."
   ]
  },
  {
   "cell_type": "markdown",
   "id": "2a62b0a5",
   "metadata": {},
   "source": [
    "### 1) Listado de variables y selección\n",
    "__CSVs y variables de entrada:__\n",
    "Todos estos archivos .csv de los que está compuesto el set de datos tienen columnas con Ids, las cuales utilizaremos a nuestra conveniencia para realizar ‘joins’ entre las distintas tablas. Antes de entrenar, todas las columnas que hacen referencia a Ids serán eliminadas para que no se genere overfitting a partir de estas.\n",
    "\n",
    "#### Variables de entrada\n",
    "\n",
    "__Races.csv__\n",
    "\n",
    "_Variables a usar_\n",
    "- date: indica la fecha de la carrera.\n",
    "- time: indica la hora en que inicia la carrera\n",
    "- year: año en que se realiza la carrera\n",
    "\n",
    "_Variables no usadas_\n",
    "\n",
    "- name: nombre de la carrera que se va a correr, utilizaremos referencias al circuito.\n",
    "- url: url que brinda más información sobre la carrera, no nos parece que influya en lo que vamos a predecir.\n",
    "- fp1_date: fecha de inicio de la práctica libre número uno, no nos parece que influya en lo que vamos a predecir.\n",
    "- fp1_time: hora de inicio de la práctica libre número uno, no nos parece que influya en lo que vamos a predecir.\n",
    "- fp2_date: fecha de inicio de la práctica libre número dos, no nos parece que influya en lo que vamos a predecir.\n",
    "- fp2_time: hora de inicio de la práctica libre número dos, no nos parece que influya en lo que vamos a predecir.\n",
    "- fp3_date: fecha de inicio de la práctica libre número tres, no nos parece que influya en lo que vamos a predecir.\n",
    "- fp3_time: hora de inicio de la práctica libre número tres, no nos parece que influya en lo que vamos a predecir.\n",
    "- quali_date: fecha de inicio de la sesión de clasificación, no nos parece que influya en lo que vamos a predecir.\n",
    "- quali_time: hora de inicio de la sesión de clasificación, no nos parece que influya en lo que vamos a predecir.\n",
    "- sprint_date: fecha de inicio de la carrera sprint, no será usado ya que nos centraremos en la clasificación debido a que no todas las carreras cuentan con sprint.\n",
    "- sprint_time: hora de inicio de la carrera sprint, no será usado ya que nos centraremos en la clasificación debido a que no todas las carreras cuentan con sprint.\n",
    "\n",
    "__Circuits.csv__\n",
    "\n",
    "_Variables a usar_\n",
    "- circuitRef: variable de texto que indica el nombre de referencia del circuito.\n",
    "\n",
    "_Variables no usadas_\n",
    "\n",
    "- name: nombre del circuito, utilizaremos circuitRef.\n",
    "- location: localidad donde se disputa la carrera, no nos parece que influya en lo que vamos a predecir.\n",
    "- country: país donde se disputa la carrera, no nos parece que influya en lo que vamos a predecir\n",
    "- lat: latitud, no nos parece que influya en lo que vamos a predecir. \n",
    "- lng: longitud, no nos parece que influya en lo que vamos a predecir. Además, utilizaremos alt.\n",
    "- url: url que brinda más información sobre el circuito, no nos parece que influya en lo que vamos a predecir.\n",
    "- alt: variable numérica que indica la altitud del circuito, no nos parece que influya en lo que vamos a predecir.\n",
    "\n",
    "__Results.csv__\n",
    "\n",
    "_Variables a usar_\n",
    "- grid: variable numérica que indica la posición de largada.\n",
    "\n",
    "_Variables no usadas_\n",
    "\n",
    "- number: número del auto, no nos parece que influya en lo que vamos a predecir.\n",
    "- position: posición final del corredor en la carrera, no se usará ya que si el corredor no finaliza la carrera, esto se representa con un valor nulo.\n",
    "- positionText: lo mismo que position pero en tipo texto.\n",
    "- points: puntos obtenidos por el corredor al finalizar la carrera, este dato no lo tenemos al momento de predecir.\n",
    "- laps: cantidad de vueltas realizadas por el corredor, este dato no lo tenemos al momento de predecir.\n",
    "- time: tiempo total en la pista, este dato no lo tenemos al momento de predecir.\n",
    "- milliseconds: tiempo total en pista en milisegundos, este dato no lo tenemos al momento de predecir. \n",
    "- fastestLap: número de vuelta de la vuelta más rápida del corredor, este dato no lo tenemos al momento de predecir.\n",
    "- fastestLapTime: tiempo de vuelta, de la vuelta más rápida del corredor, este dato no lo tenemos al momento de predecir.\n",
    "- fastestLapSpeed: velocidad máxima de la vuelta más rápida, este dato no lo tenemos al momento de predecir.\n",
    "- statusId: id que hace referencia al status de finalización de la carrera, no será utilizado ya que no nos resulta relevante y es un dato que no tendremos al momento de hacer la predicción.\n",
    "\n",
    "__Driver_standings.csv__\n",
    "\n",
    "_Variables a usar_\n",
    "\n",
    "- position (_ds_position_): variable numérica que indica la posición del corredor en el campeonato de corredores una vez finalizada una carrera, utilizaremos este dato pero de la carrera anterior.\n",
    "- wins (_ds_wins_): variable numérica que indica la cantidad de victorias en el campeonato una vez finalizada una carrera, utilizaremos este dato pero de la carrera anterior.\n",
    "- points (_ds_points_): variable numérica que indica la cantidad de puntos acumulados que tiene el corredor una vez finalizada una carrera, utilizaremos este dato pero de la carrera anterior.\n",
    "\n",
    "_Variables no usadas_\n",
    "\n",
    "- positionText: variable de texto que indica la posición del corredor en el campeonato pero en tipo texto, usaremos la variable numérica.\n",
    "\n",
    "__Constructor_standings.csv__\n",
    "\n",
    "_Variables a usar_\n",
    "\n",
    "- position (_cs_position_): variable numérica que indica la posición del equipo en el campeonato de constructores una vez finalizada una carrera, utilizaremos este dato pero de la carrera anterior.\n",
    "- wins (_cs_wins_): variable numérica que indica la cantidad de victorias del equipo en el campeonato de constructores una vez finalizada una carrera, utilizaremos este dato pero de la carrera anterior.\n",
    "- points (_cs_points_): variable numérica que indica la cantidad de puntos acumulados que tiene el equipo una vez finalizada una carrera, utilizaremos este dato pero de la carrera anterior.\n",
    "\n",
    "_Variables no usadas_\n",
    "\n",
    "- positionText: variable de texto que indica la posición del equipo en el campeonato de constructores pero en tipo texto, usaremos la variable numérica.\n",
    "\n",
    "__Qualifying.csv__\n",
    "\n",
    "_Variables a usar_\n",
    "\n",
    "- position (_q_position_): variable numérica que indica la posición en la que finaliza el corredor la sesión de clasificación\n",
    "- q1 (_q1_ms_): variable numérica que indica el tiempo en clasificación q1.\n",
    "- q2 (_q2_ms_): variable numérica que indica el tiempo en clasificación q2.\n",
    "- q3 (_q3_ms_): variable numérica que indica el tiempo en clasificación q3.\n",
    "\n",
    "_Variables no usadas_\n",
    "\n",
    "- number: número del auto, no nos parece que influya en lo que vamos a predecir.\n",
    "\n",
    "___CSVs que no se utilizarán:___\n",
    "\n",
    "* _constructor_results_: no se utilizará ninguna variable de esta tabla ya que son datos que no están disponibles al momento que vamos a realizar la predicción.\n",
    "* _constructors_: no se utilizará ninguna variable de esta tabla ya que indican información general sobre los constructores y no creemos que sea relevante.\n",
    "* _drivers_: no se utilizará ninguna variable de esta tabla ya que indican información general sobre los corredores y no creemos que sea relevante.\n",
    "* _lap_times_: no se utilizará ninguna variable de esta tabla ya que son datos que no están disponibles al momento que vamos a realizar la predicción.\n",
    "* _pit_stops_: no se utilizará ninguna variable de esta tabla ya que son datos que no están disponibles al momento que vamos a realizar la predicción.\n",
    "* _seasons_: no se utilizará ninguna variable de esta tabla ya que indican información general sobre las temporadas  y no creemos que sea relevante.\n",
    "* _sprint_results_: no se utilizará ninguna variable de esta tabla ya que indican tiempos de la carrera sprint y son datos que no estarán disponibles al momento de la predicción.\n",
    "* _status_: mapea el id de los distintos estados en los que se puede finalizar una carrera. No lo utilizaremos ya que son datos que no están disponibles al momento de la predicción.\n",
    "\n",
    "#### Variable de salida\n",
    "___is_podium___: esta variable sale del csv de “results”, se va a transformar la columna “positionOrder” la cual hace referencia a la posición final del corredor en la carrera. “is_podium” es una variable _binaria_ que va a determinar si el piloto va a estar en el podio (primer, segundo y tercer puesto). Los valores que puede tener son _0_ que indica que el corredor no está en el podio y _1_ si el mismo se encuentra en el podio."
   ]
  },
  {
   "cell_type": "code",
   "execution_count": null,
   "id": "15d89aa5",
   "metadata": {},
   "outputs": [],
   "source": [
    "# Importamos las dependencias que vamos a utilizar\n",
    "import numpy as np\n",
    "import pandas as pd\n",
    "import matplotlib.pyplot as plt\n",
    "import seaborn as sns\n",
    "import plotly\n",
    "import plotly.express as px\n",
    "import sklearn_pandas\n",
    "from matplotlib import gridspec\n",
    "from datetime import datetime"
   ]
  },
  {
   "cell_type": "code",
   "execution_count": null,
   "id": "602ca917",
   "metadata": {},
   "outputs": [],
   "source": [
    "# Quitamos el límite de columnas y filas que se muestran en los dataframes\n",
    "pd.set_option('display.max_columns', None)\n",
    "pd.set_option('display.max_rows', None)"
   ]
  },
  {
   "cell_type": "code",
   "execution_count": null,
   "id": "86cc6dd9",
   "metadata": {},
   "outputs": [],
   "source": [
    "# Importamos los csvs que vamos a utilizar\n",
    "races = pd.read_csv('./csvs/races.csv')\n",
    "circuits = pd.read_csv('./csvs/circuits.csv')\n",
    "results = pd.read_csv('./csvs/results.csv')\n",
    "driver_standings = pd.read_csv('./csvs/driver_standings.csv')\n",
    "constructor_standings = pd.read_csv('./csvs/constructor_standings.csv')\n",
    "qualifying = pd.read_csv('./csvs/qualifying.csv')"
   ]
  },
  {
   "cell_type": "code",
   "execution_count": null,
   "id": "2656880e",
   "metadata": {},
   "outputs": [],
   "source": [
    "# Eliminamos las columnas que no vamos a utilizar en cada dataset antes de hacer los merges\n",
    "races.drop(['round', 'name', 'url', 'fp1_date', 'fp1_time','fp2_date', 'fp2_time','fp3_date',\n",
    "            'fp3_time', 'quali_date', 'quali_time', 'sprint_date', 'sprint_time'], axis=1, inplace=True)\n",
    "\n",
    "circuits.drop(['name', 'location', 'country', 'lat', 'lng', 'url', 'alt'], axis=1, inplace=True)\n",
    "\n",
    "results.drop(['number', 'position', 'positionText', 'points', 'laps', 'time', 'milliseconds', 'fastestLap', \n",
    "           'fastestLapTime', 'fastestLapSpeed', 'statusId', 'rank'], axis=1, inplace=True)\n",
    "\n",
    "driver_standings.drop(['positionText'], axis=1, inplace=True)\n",
    "\n",
    "constructor_standings.drop(['positionText'], axis=1, inplace=True)\n",
    "\n",
    "qualifying.drop(['number'], axis=1, inplace=True)"
   ]
  },
  {
   "cell_type": "code",
   "execution_count": null,
   "id": "7a3b8f6d",
   "metadata": {},
   "outputs": [],
   "source": [
    "# Cambiamos nombres de columnas para identificarlos mejor\n",
    "qualifying.rename(columns = {'position':'q_position'}, inplace = True)\n",
    "driver_standings.rename(columns = {'points':'ds_points', 'position':'ds_position', 'wins':'ds_wins'}, inplace = True)\n",
    "constructor_standings.rename(columns = {'points':'cs_points', 'position':'cs_position', 'wins':'cs_wins'}, inplace = True)"
   ]
  },
  {
   "cell_type": "code",
   "execution_count": null,
   "id": "86f34ef1",
   "metadata": {},
   "outputs": [],
   "source": [
    "# Merge de los datos que no requieren ser calculados a partir de otros\n",
    "full = pd.merge(results, qualifying, how='inner', on=['raceId', 'driverId', 'constructorId']).merge(\n",
    "    races, how='inner', on=['raceId']).merge(\n",
    "    circuits, how='inner', on=['circuitId'])"
   ]
  },
  {
   "cell_type": "markdown",
   "id": "483173af",
   "metadata": {},
   "source": [
    "Como se indicó previamente, las tablas _driver_standings_ y _constructor_standings_ contienen las variables _points_, _wins_ y _position_, que son datos obtenidos una vez finalizada la carrera correspondiente.\n",
    "\n",
    "Como consideramos que estas son variables de mucho interés, realizamos operaciones sobre estas tablas para obtener los datos de estas columnas de la carrera inmediatamente anterior de la misma season. En resumen, la idea de estas variables es la misma pero usamos los datos al momento previo a la carrera que intentaremos predecir si un corredor estará en el podio.\n",
    "\n",
    "Para hacerlo, agregamos las columnas date y year en driver_standings y constructor standings."
   ]
  },
  {
   "cell_type": "code",
   "execution_count": null,
   "id": "1830ea16",
   "metadata": {},
   "outputs": [],
   "source": [
    "# Agregamos columnas 'date' y 'year' a los dataframes según la carrera correspondiente\n",
    "driver_standings = pd.merge(driver_standings, races[[\"raceId\", \"date\", \"year\"]], on=\"raceId\")\n",
    "constructor_standings = pd.merge(constructor_standings, races[[\"raceId\", \"date\", \"year\"]], on=\"raceId\")\n",
    "\n",
    "# Ordenamos los dataframes a partir de columnas 'driverId'/'constructorId' y 'date'\n",
    "driver_standings = driver_standings.sort_values(by=['driverId', 'date'], ascending=True)\n",
    "constructor_standings = constructor_standings.sort_values(by=[\"constructorId\", \"date\"], ascending=True)\n",
    "\n",
    "# Convertimos campo 'date' de str a datetime\n",
    "driver_standings['date'] = pd.to_datetime(driver_standings['date'])\n",
    "constructor_standings['date'] = pd.to_datetime(constructor_standings['date'])\n",
    "\n",
    "# Usamos el método shift para obtener los valores anteriores (ya se encuentra ordenado)\n",
    "driver_standings['ds_prev_points'] = driver_standings.groupby(['driverId', 'year'])['ds_points'].shift(1)\n",
    "driver_standings['ds_prev_position'] = driver_standings.groupby(['driverId', 'year'])['ds_position'].shift(1)\n",
    "driver_standings['ds_prev_wins'] = driver_standings.groupby(['driverId', 'year'])['ds_wins'].shift(1)\n",
    "\n",
    "constructor_standings['cs_prev_points'] = constructor_standings.groupby(['constructorId', 'year'])['cs_points'].shift(1)\n",
    "constructor_standings['cs_prev_position'] = constructor_standings.groupby(['constructorId', 'year'])['cs_position'].shift(1)\n",
    "constructor_standings['cs_prev_wins'] = constructor_standings.groupby(['constructorId', 'year'])['cs_wins'].shift(1)\n",
    "\n",
    "driver_standings.head()"
   ]
  },
  {
   "cell_type": "code",
   "execution_count": null,
   "id": "af22991d",
   "metadata": {},
   "outputs": [],
   "source": [
    "# Consulta para verificar que se haya realizado correctamente\n",
    "driver_standings[(driver_standings.driverId == 1) & ((driver_standings.year == 2022) | (driver_standings.year == 2023)| (driver_standings.year == 2021))].sort_values('date', ascending=True)"
   ]
  },
  {
   "cell_type": "code",
   "execution_count": null,
   "id": "76f0064e",
   "metadata": {},
   "outputs": [],
   "source": [
    "# Mergeamos ahora sí 'full' con 'driver_standings' y 'constructor_standings' ya modificados.\n",
    "full = pd.merge(full, driver_standings[['raceId', 'driverId', 'ds_prev_points', 'ds_prev_position', 'ds_prev_wins']], how='inner', on=['raceId', 'driverId']).merge(\n",
    "    constructor_standings[['raceId', 'constructorId', 'cs_prev_points', 'cs_prev_position', 'cs_prev_wins']], how='inner', on=['raceId', 'constructorId'])\n",
    "\n",
    "# Cambiamos algunos nombres de columnas\n",
    "full.rename(columns = {'ds_prev_points':'ds_points','ds_prev_position':'ds_position','ds_prev_wins':'ds_wins',\n",
    "                      'cs_prev_points':'cs_points','cs_prev_position':'cs_position','cs_prev_wins':'cs_wins'}, inplace = True)"
   ]
  },
  {
   "cell_type": "code",
   "execution_count": null,
   "id": "eaa32710",
   "metadata": {},
   "outputs": [],
   "source": [
    "# Consulta para verificar que se haya realizado correctamente\n",
    "full[(full.driverId == 1) & ((full.year == 2022) | (full.year == 2023)| (full.year == 2021))].sort_values('date', ascending=True)"
   ]
  },
  {
   "cell_type": "code",
   "execution_count": null,
   "id": "02631603",
   "metadata": {},
   "outputs": [],
   "source": [
    "# Creamos la columna 'is_podium' que es el target a predecir a partir de los datos que tenemos en positionOrder\n",
    "full['is_podium'] = np.where(full['positionOrder'] <= 3, 1, 0)\n",
    "full.drop(['positionOrder'], axis=1, inplace=True)\n",
    "full.head()"
   ]
  },
  {
   "cell_type": "code",
   "execution_count": null,
   "id": "895113eb",
   "metadata": {},
   "outputs": [],
   "source": [
    "print('Dimensiones: ', full.shape)\n",
    "print('Dimensiones sin columnas ID: ',\n",
    "      full[['grid', 'q_position', 'q1', 'q2', 'q3', 'year', 'date', 'time', 'circuitRef', 'ds_points', 'ds_wins', 'ds_position',\n",
    "            'cs_points', 'cs_wins', 'cs_position', 'is_podium']].shape)\n",
    "full.dtypes"
   ]
  },
  {
   "cell_type": "markdown",
   "id": "74bb25e1",
   "metadata": {},
   "source": [
    "### 2) Análisis detallado de un conjunto de variables\n",
    "#### 2.1 Balanceo de la variable de salida"
   ]
  },
  {
   "cell_type": "code",
   "execution_count": null,
   "id": "e47f9b54",
   "metadata": {},
   "outputs": [],
   "source": [
    "# Gráfico de torta para ver el balanceo de la variable de salida\n",
    "full.is_podium.value_counts().plot.pie(autopct='%.2f',figsize=(6,6), labels=['No está en el podio', 'Está en el podio'], ylabel='Cant.')"
   ]
  },
  {
   "cell_type": "markdown",
   "id": "56c33b83",
   "metadata": {},
   "source": [
    "En el gráfico de torta se puede observar que del total de los datos de las carreras que se encuentran en nuestro dataset, el 14.42% de los corredores se encuentran en el podio, mientras que el 85.58% no se encuentra en el mismo. \n",
    "A la hora de entrenar y medir el rendimiento del modelo, este podría realizar underfitting (no aprenderá a generalizar, podría decir que nunca hará podium para todos los casos y obtendría una exactitud del 85.58%) ya que la mayoría de los casos no se encuentra en el podio."
   ]
  },
  {
   "cell_type": "markdown",
   "id": "7305aec9",
   "metadata": {},
   "source": [
    "#### 2.2) Comportamiento de variables de entrada y su relación con la variable de salida\n",
    "_Variables de entrada a analizar:_\n",
    "\n",
    "- grid\n",
    "- q_position\n",
    "- q1_ms\n",
    "- ds_position\n",
    "- cs_position"
   ]
  },
  {
   "cell_type": "markdown",
   "id": "e8aa62ea",
   "metadata": {},
   "source": [
    "__Posición de salida (grid)__\n",
    "\n",
    "Analizamos la distribución de esta variable, visualizando que en la mayoría de los casos toma valores del 1 al 20. También detectamos casos en que toma el valor 0, lo que indica que el corredor comienza la carrera desde boxes (penalización).\n",
    "Por otra parte, encontramos valores mayores a 20 debido a que el dataset tiene datos desde el año 1950 y desde ese momento hasta la actualidad hubo varios cambios en la cantidad de competidores."
   ]
  },
  {
   "cell_type": "code",
   "execution_count": null,
   "id": "0c612d3f",
   "metadata": {},
   "outputs": [],
   "source": [
    "px.histogram(full, x='grid', title='Distribución posición de salida (grid)')"
   ]
  },
  {
   "cell_type": "markdown",
   "id": "3c02627d",
   "metadata": {},
   "source": [
    "A partir del histograma relacionado con la variable de salida, se puede observar que cuanto más adelante comienza el vehículo, más probable que se encuentre en el podio. Los primeros datos que se encuentran en 0, es debido a que los corredores no hayan disputado la carrera, por ejemplo por rotura de auto, o porque salieron de boxes como se mencionó antes."
   ]
  },
  {
   "cell_type": "code",
   "execution_count": null,
   "id": "c3c81dc3",
   "metadata": {},
   "outputs": [],
   "source": [
    "px.histogram(full, x='grid', color='is_podium', title='Relación entre \\'grid\\' y \\'is_podium\\'', barmode='group',\n",
    "            labels={\"grid\": \"Posición de salida\"})"
   ]
  },
  {
   "cell_type": "markdown",
   "id": "8e44908b",
   "metadata": {},
   "source": [
    "__Posición final de clasificación (q_position)__\n",
    "\n",
    "A partir del histograma de la variable sola, se puede observar que en la mayoría de las carreras hay 20 corredores. También nos encontramos con los casos que se superan los 20 corredores, pero menor cantidad de veces."
   ]
  },
  {
   "cell_type": "code",
   "execution_count": null,
   "id": "b7115a18",
   "metadata": {},
   "outputs": [],
   "source": [
    "px.histogram(full, x='q_position', title='Distribución posición final clasificación (q_position)')"
   ]
  },
  {
   "cell_type": "markdown",
   "id": "a5d51a6e",
   "metadata": {},
   "source": [
    "En relación con la variable de salida, cuanto más lejos finalizan en la clasificación, menos probabilidades de estar en el podio  tendrán los corredores."
   ]
  },
  {
   "cell_type": "code",
   "execution_count": null,
   "id": "800aff5b",
   "metadata": {
    "scrolled": false
   },
   "outputs": [],
   "source": [
    "px.histogram(full, x='q_position', color='is_podium', title='Relación entre \\'q_position\\' y \\'is_podium\\'', barmode='group',\n",
    "             labels={\"q_position\": \"Posición final clasificación\"})"
   ]
  },
  {
   "cell_type": "markdown",
   "id": "b30610a0",
   "metadata": {},
   "source": [
    "__Tiempo de vuelta en Q1 (q1_ms)__\n",
    "\n",
    "Aclaración: las variables q1, q2 y q3 las transformamos a milisegundos para poder analizarlas.\n",
    "A estas variables se les cambia el nombre a qn_ms.\n",
    "\n",
    "Para la variable q1_ms, decidimos acotar los datos a un circuito en particular para poder analizarlos mejor, ya que si no hacemos lo mencionado anteriormente los tiempos de vuelta van a ser muy diferentes entre distintos circuitos y por lo tanto difíciles de analizar."
   ]
  },
  {
   "cell_type": "code",
   "execution_count": null,
   "id": "c5f52562",
   "metadata": {},
   "outputs": [],
   "source": [
    "# Función para convertir los valores de q1, q2 y q3 (string) en milisegundos.\n",
    "def datetime_to_seconds(laptime: str) -> float:\n",
    "    if laptime == '\\\\N' or laptime == 'nan':\n",
    "        return np.nan\n",
    "    time_format = \"%M:%S.%f\"\n",
    "    dt = datetime.strptime(laptime, time_format)\n",
    "    seconds = dt.minute * 60 + dt.second + dt.microsecond / 1_000_000\n",
    "    return float(seconds * 1000)"
   ]
  },
  {
   "cell_type": "code",
   "execution_count": null,
   "id": "d019af86",
   "metadata": {
    "scrolled": false
   },
   "outputs": [],
   "source": [
    "# Convertimos todas las columnas de tiempos de qualy a milisegundos\n",
    "full['q1'] = full['q1'].astype(str)\n",
    "full['q1_ms'] = np.vectorize(datetime_to_seconds)(full['q1'])\n",
    "\n",
    "full['q2'] = full['q2'].astype(str)\n",
    "full['q2_ms'] = np.vectorize(datetime_to_seconds)(full['q2'])\n",
    "\n",
    "full['q3'] = full['q3'].astype(str)\n",
    "full['q3_ms'] = np.vectorize(datetime_to_seconds)(full['q3'])\n",
    "\n",
    "# Sacamos columnas q1, q2 y q3 ya que utilizaremos la columna pasada a milisegundos.\n",
    "full.drop(['q1', 'q2', 'q3'], axis=1, inplace=True)"
   ]
  },
  {
   "cell_type": "markdown",
   "id": "f7d19fc4",
   "metadata": {},
   "source": [
    "En el siguiente histograma, podemos ver que los tiempos de vuelta en el circuito de Suzuka van desde, aproximadamente, los 80000 a 130000 milisegundos. También se puede notar un caso extremo, en el que se registra un tiempo de vuelta cerca del millón de milisegundos. Ampliaremos sobre este dato más adelante."
   ]
  },
  {
   "cell_type": "code",
   "execution_count": null,
   "id": "532f616f",
   "metadata": {
    "scrolled": false
   },
   "outputs": [],
   "source": [
    "px.histogram(full[full.circuitRef == 'suzuka'], x='q1_ms', title='Tiempos de vuelta Q1 en Suzuka')"
   ]
  },
  {
   "cell_type": "markdown",
   "id": "bc29bc9f",
   "metadata": {},
   "source": [
    "Relacionando los tiempos de vuelta de Q1 con la variable 'is_podium', podemos ver que los pilotos que realizan un tiempo de vuelta entre los 80 y 90 mil milisegundos tienen mayor probabilidad de entrar al podio. Se puede ver que mientras más bajo sea el tiempo, más probabilidades tendrá.\n",
    "\n",
    "De todas formas, podemos ver un caso particular donde se realiza un tiempo entre 120 y 130 mil ms y de todas formas logra el podio."
   ]
  },
  {
   "cell_type": "code",
   "execution_count": null,
   "id": "cc549ab0",
   "metadata": {},
   "outputs": [],
   "source": [
    "px.histogram(full[full.circuitRef == 'suzuka'], x='q1_ms', color='is_podium', title='Relación entre q1_ms y is_podium',\n",
    "             barmode='group', labels={\"q1_ms\": \"Tiempo de vuelta en Q1 (ms)\"})"
   ]
  },
  {
   "cell_type": "markdown",
   "id": "d8a1793d",
   "metadata": {},
   "source": [
    "__Posición en campeonato de corredores (ds_position)__\n",
    "\n",
    "En este histograma se puede observar cómo se distribuyen los datos correspondientes a las posiciones de campeonato de corredores. Se ve que en la mayoría de casos hubo hasta 20 corredores, pero en casos particulares, llegaron a correr 44 corredores distintos, como es el caso de la temporada 1994."
   ]
  },
  {
   "cell_type": "code",
   "execution_count": null,
   "id": "e2d5492e",
   "metadata": {
    "scrolled": false
   },
   "outputs": [],
   "source": [
    "px.histogram(full, x='ds_position', title='Distribución posiciones de corredores en campeonato')"
   ]
  },
  {
   "cell_type": "code",
   "execution_count": null,
   "id": "3c1c90f6",
   "metadata": {},
   "outputs": [],
   "source": [
    "# Vemos el caso atípico mencionado anteriormente\n",
    "full[full.ds_position > 20].sort_values('ds_position', ascending=False).head()"
   ]
  },
  {
   "cell_type": "markdown",
   "id": "0e4dac57",
   "metadata": {},
   "source": [
    "Relacionando esta variable con la variable de salida 'is_podium', nos damos cuenta la posición en el campeonato del corredor influye bastante para determinar si terminará o no dentro del podio.\n",
    "\n",
    "Podemos destacar, que en los casos donde el corredor está primero o segundo en el campeonato, tiene más posibilidades de quedar en podio que no quedar."
   ]
  },
  {
   "cell_type": "code",
   "execution_count": null,
   "id": "4c533dd4",
   "metadata": {},
   "outputs": [],
   "source": [
    "px.histogram(full, x='ds_position', color='is_podium', barmode='group', title='Relación entre ds_position y is_podium',\n",
    "            labels={\"ds_position\": \"Posición en campeonato\"})"
   ]
  },
  {
   "cell_type": "markdown",
   "id": "979665f4",
   "metadata": {},
   "source": [
    "__Posición en campeonato de constructores (cs_position)__\n",
    "\n",
    "En el histograma vemos que la distribución de las posiciones de los equipos en el campeonato es muy similar entre los primeros 10 puestos. Esto es así ya que en la mayoría de temporadas de F1 participan 10 equipos/constructores. Como en el caso anterior, también observamos casos que se dan con menor frecuencia, como por ejemplo la temporada de 1994, donde participaron 14 equipos."
   ]
  },
  {
   "cell_type": "code",
   "execution_count": null,
   "id": "65df4a4b",
   "metadata": {},
   "outputs": [],
   "source": [
    "px.histogram(full, x='cs_position', title='Distribución posiciones de constructores en campeonato')"
   ]
  },
  {
   "cell_type": "markdown",
   "id": "886159b1",
   "metadata": {},
   "source": [
    "Relacionando esta variable con la variable de salida 'is_podium', nos damos cuenta la posición en el campeonato de equipos influye bastante para determinar si terminará o no dentro del podio.\n",
    "\n",
    "Podemos destacar, que en el caso donde el equipo se encuentra primero en el campeonato, tiene más posibilidades de quedar en podio que no quedar."
   ]
  },
  {
   "cell_type": "code",
   "execution_count": null,
   "id": "b46167a8",
   "metadata": {},
   "outputs": [],
   "source": [
    "px.histogram(full, x='cs_position', color='is_podium', barmode='group', title='Relación entre cs_position y is_podium',\n",
    "            labels={\"cs_position\": \"Posición en campeonato\"})"
   ]
  },
  {
   "cell_type": "markdown",
   "id": "e5791de9",
   "metadata": {},
   "source": [
    "#### 2.3) Transformaciones sobre las variables de entrada\n",
    "\n",
    "- cirtcuitRef: como se trata de una columna categórica, podríamos implementar One-Hot Encoder, convirtiendo la misma en muchas columnas con los diferentes nombres de referencia de los circuitos. Esto lo hacemos para evitar que se asigne un orden arbitrario a las categorías y tengan la misma importancia.\n",
    "\n",
    "Las variables enumeradas a continuación serán escaladas. Esto se debe a que, por más que tengan un órden o jerarquía natural, los posibles valores que pueden tomar difieren entre las distintas variables, lo que puede llevar al modelo a determinar que una variable tiene más peso o importancia que otra.\n",
    "\n",
    "Por ejemplo, la variable position puede tomar valores del 1 al 20 (en la mayoría de los casos), mientras que la variable ds_points puede tomar valores desde 0 hasta 454 (máximo valor en el dataset) o más.\n",
    "Es por esto que consideramos importante escalar estas variables.\n",
    "\n",
    "El método para escalar va a depender de los modelos que vamos a entrenar.\n",
    "- grid\n",
    "- position\n",
    "- ds_position\n",
    "- ds_wins\n",
    "- ds_points\n",
    "- cs_position\n",
    "- cs_wins\n",
    "- cs_points\n",
    "\n",
    "Las siguientes variables aplican a lo explicado anteriormente y además decidimos pasarlas  a milisegundos para que el modelo pueda trabajar con mayor precisión sobre estos datos.\n",
    "- q1_ms\n",
    "- q2_ms\n",
    "- q3_ms\n",
    "\n",
    "En cuanto a las variables _'date'_ y _'time'_ se podría aplicar composición, es decir, convertir esas columnas en una sola para facilitarle el trabajo al modelo.\n"
   ]
  },
  {
   "cell_type": "markdown",
   "id": "faa2c628",
   "metadata": {},
   "source": [
    "#### 2.4) Valores nulos y valores extremos"
   ]
  },
  {
   "cell_type": "code",
   "execution_count": null,
   "id": "ccfe2a5b",
   "metadata": {
    "scrolled": true
   },
   "outputs": [],
   "source": [
    "# En el dataset se indican los valores no registrados (nulos) como '\\N'. Para hacer un mejor análisis los pasamos a None o NaN\n",
    "full['time'] = full['time'].replace('\\\\N', None)"
   ]
  },
  {
   "cell_type": "code",
   "execution_count": null,
   "id": "a3f09e6b",
   "metadata": {},
   "outputs": [],
   "source": [
    "# Analisis valores nulos\n",
    "full.isnull().sum()"
   ]
  },
  {
   "cell_type": "markdown",
   "id": "d8af17a7",
   "metadata": {},
   "source": [
    "___Valores nulos y extremos encontrados:___\n",
    "- time (races): con respecto a esta variable, pudimos notar que existen varios valores nulos, es por ello que se podría aplicar algún tratamiento, como por ejemplo, considerar la hora que más se repite.\n",
    "- q1_ms: en esta variable nos encontramos con un valor extremo que se ve en el gráfico a continuación. El tratamiento a aplicar sobre este dato sería eliminarlo del set de datos.\n",
    "- q2_ms y q3_ms: vemos que hay valores que superan el extremo superior del gráfico de caja y bigotes, pero no los tomaremos como atípicos ya que tenemos en cuenta carreras desde 1950, donde los tiempos de vuelta no estaban muy cercanos a los de la actualidad.\n",
    "\n",
    "Para tener en cuenta, en q1_ms, q2_ms y q3_ms tenemos valores nulos, que podemos ver que aumentan de a poco a medida que analizamos la siguiente etapa de clasificación. Esto se debe a que en F1 la clasificación va eliminando participantes entre etapas. En estos casos, tendríamos que tratarlos poniendo un valor fijo que indique que es nulo y no afecte el proceso de predicción del modelo."
   ]
  },
  {
   "cell_type": "code",
   "execution_count": null,
   "id": "453e496a",
   "metadata": {},
   "outputs": [],
   "source": [
    "# Analisis valores extremos\n",
    "px.box(full, y='q1_ms')"
   ]
  },
  {
   "cell_type": "code",
   "execution_count": null,
   "id": "9aad207c",
   "metadata": {},
   "outputs": [],
   "source": [
    "px.box(full, y='q2_ms')"
   ]
  },
  {
   "cell_type": "code",
   "execution_count": null,
   "id": "77b6aaae",
   "metadata": {},
   "outputs": [],
   "source": [
    "px.box(full, y='q3_ms')"
   ]
  },
  {
   "cell_type": "code",
   "execution_count": null,
   "id": "3cadb828",
   "metadata": {},
   "outputs": [],
   "source": [
    "# Valor extremo encontrado en los tiempos de vuelta de q1 en milisegundos\n",
    "full[full.q1_ms > 1000000]"
   ]
  },
  {
   "cell_type": "markdown",
   "id": "e739a2ea",
   "metadata": {},
   "source": [
    "En el caso de las siguientes variables, los valores nulos son debido a que no se encontraron datos de la carrera anterior, ya que se trata de la primera carrera de la temporada. A los mismos se les podría aplicar algún tratamiento, como poner valor a mano en 0 a los puntos (points) y a las victorias (wins). Respecto a la posición (position), podríamos asignarle un valor random entre 1 y 20 que son los valores más típicos.\n",
    "- ds_position\n",
    "- ds_wins\n",
    "- ds_points\n",
    "- cs_position\n",
    "- cs_wins\n",
    "- cs_points\n",
    "\n",
    "En ds_position y cs_position se pueden observar valores extremos (gráficos en punto 2.2). Estos datos no los eliminaremos porque no sabemos cómo serán organizadas las temporadas posteriores de F1, pudiendo volver a formatos anteriores donde había más corredores y equipos."
   ]
  },
  {
   "cell_type": "markdown",
   "id": "e24ea545",
   "metadata": {},
   "source": [
    "#### 2.5) Variables altamente correlacionadas con la variable \"target\""
   ]
  },
  {
   "cell_type": "code",
   "execution_count": null,
   "id": "67c5fad8",
   "metadata": {},
   "outputs": [],
   "source": [
    "# Heatmap\n",
    "# Armo un df nuevo quitando IDs y variables que dan error\n",
    "final = full[['grid', 'q_position', 'ds_points', 'ds_position', 'ds_wins',\n",
    "              'cs_points', 'cs_position', 'cs_wins', 'q1_ms', 'q2_ms', 'q3_ms', 'is_podium']]"
   ]
  },
  {
   "cell_type": "code",
   "execution_count": null,
   "id": "7c9d6f4a",
   "metadata": {
    "scrolled": false
   },
   "outputs": [],
   "source": [
    "px.imshow(final.corr(), text_auto=True, width=800, height=800)"
   ]
  },
  {
   "cell_type": "markdown",
   "id": "b967b74a",
   "metadata": {},
   "source": [
    "___Variables altamente correlacionadas positivamente con is_podium___\n",
    "- ds_points\n",
    "- ds_wins\n",
    "- cs_points\n",
    "- cs_wins\n",
    "\n",
    "Estas variables tienen correlación positiva ya que como se analizó previamente, a medida que estas aumentan en valor más probabilidades tendrá de estar dentro del podio.\n",
    "\n",
    "___Variables altamente correlacionadas negativamente con is_podium___\n",
    "- grid\n",
    "- q_position\n",
    "- ds_position\n",
    "- cs_position\n",
    "\n",
    "Estas variables tienen correlación negativa ya que mientras más bajo es su valor, más alta será la probabilidad de finalizar en el podio. Por ejemplo, salir primero en la grilla aumenta la posibilidad de podio.\n",
    "\n",
    "Por otra parte, las variables q1_ms, q2_ms y q3_ms tienen una correlación negativa, pero es muy cercana a 0."
   ]
  },
  {
   "cell_type": "markdown",
   "id": "88f77c18",
   "metadata": {},
   "source": [
    "### 3) Hipótesis sobre los datos\n",
    "\n",
    "#### ___3.1) Formulación y análisis de las hipótesis___\n",
    "__Hipótesis 1__\n",
    "\n",
    "Una mejor posición de salida (grid) es más importante que la posición de clasificación (q_position) para acabar en el podio."
   ]
  },
  {
   "cell_type": "code",
   "execution_count": null,
   "id": "e0af95c7",
   "metadata": {},
   "outputs": [],
   "source": [
    "#Hipótesis 1\n",
    "f, ax = plt.subplots(1, 2, figsize=(16, 12))\n",
    "ax[0].set_title('% de podios por posición de salida (grid)')\n",
    "full[(full.is_podium == 1) & ((full.grid >= 1) & (full.grid <= 20))].grid.value_counts().plot.pie(ax=ax[0],autopct='%1.2f%%')\n",
    "ax[1].set_title('% de podios por posición de clasificación (q_position)')\n",
    "full[(full.is_podium == 1) & ((full.q_position >= 1) & (full.q_position <= 20))].q_position.value_counts().plot.pie(ax=ax[1],autopct='%1.2f%%')"
   ]
  },
  {
   "cell_type": "markdown",
   "id": "e0445350",
   "metadata": {},
   "source": [
    "A primera vista en el diagrama de torta, se podría decir que la hipótesis es verdadera, ya que existe una proporción mayor de podios en la variable grid en los primeros puestos. Pero a medida que fuimos analizando los distintos casos, los porcentajes de podios por posición de clasificación son mayores que los porcentajes de podios por posición de salida en algunos casos. \n",
    "Es por ello que la hipótesis planteada se refuta a partir de los datos, ya que no en todos los casos la posición de salida tiene más impacto que la posición de clasificación para determinar si se hará podio."
   ]
  },
  {
   "cell_type": "markdown",
   "id": "6ab2544d",
   "metadata": {},
   "source": [
    "__Hipótesis 2__\n",
    "\n",
    "Los puntos del corredor (ds_points) son más importantes que la cantidad de victorias del corredor (ds_wins) para acabar en el podio."
   ]
  },
  {
   "cell_type": "code",
   "execution_count": null,
   "id": "d7858472",
   "metadata": {
    "scrolled": false
   },
   "outputs": [],
   "source": [
    "# Hipótesis 2\n",
    "px.scatter(full[(full.year >= 2012) & (full.year <= 2022)], x='ds_points', y='ds_wins', color='is_podium')"
   ]
  },
  {
   "cell_type": "markdown",
   "id": "b226a6df",
   "metadata": {},
   "source": [
    "Mirando los gráficos de dispersión creados para evaluar esta hipótesis, podemos detectar que hay una relación lineal positiva entre ambas variables, por lo que en la parte superior derecha del gráfico nos encontraremos con una concentración de puntos que representan carreras en las que se termina dentro del podio."
   ]
  },
  {
   "cell_type": "code",
   "execution_count": null,
   "id": "c5d630b6",
   "metadata": {},
   "outputs": [],
   "source": [
    "px.scatter(full[((full.year >= 2012) & (full.year <= 2022)) & (full.is_podium == 1)], x='ds_points', y='ds_wins')"
   ]
  },
  {
   "cell_type": "markdown",
   "id": "78e4c052",
   "metadata": {},
   "source": [
    "Respecto a la hipótesis, podemos decir que es verdadera basándonos en los datos. Esto se debe a que si armamos un gráfico similar al anterior pero con datos que ya sabemos que finalizan dentro del podio, notamos una mayor cantidad de puntos en la parte inferior del diagrama, donde la cantidad de victorias es menor."
   ]
  },
  {
   "cell_type": "markdown",
   "id": "64faf2c7",
   "metadata": {},
   "source": [
    "#### ___3.2) Hallazgos en los datos___"
   ]
  },
  {
   "cell_type": "markdown",
   "id": "cd5c909a",
   "metadata": {},
   "source": [
    "Antes de hacer un análisis de los datos con mayor profundidad, pensábamos que la correlación entre la posición de salida (grid) y la posición final de clasificación (q_position) iba a ser del 100%.\n",
    "Sin embargo, al observar el mapa de calor, notamos que la correlación entre estas variables no es la esperada, sino de un 95%. A partir de esto, miramos los datos y nos dimos cuenta que existen diferencias debido a que un corredor puede penalizar posiciones de salida por diversos motivos, como pueden ser exceder la cantidad de cambios de componentes del monoplaza o alguna sanción obtenida durante la sesión de clasificación.\n",
    "Por ejemplo, un corredor finaliza la clasificación en primera posición (q_position) pero antes de comenzar la carrera realiza un cambio de componente superando el límite y obtiene una sanción de 5 puestos, por lo que comenzará la carrera en sexta posición (grid).\n",
    "\n",
    "También pudimos observar que en ciertas temporadas, generalmente las más antiguas, contaban con muchos más corredores que en las últimas temporadas de Formula 1."
   ]
  },
  {
   "cell_type": "markdown",
   "id": "09b7851c",
   "metadata": {},
   "source": [
    "#### Limpieza final del dataset para el entrenamiento\n",
    "Realizamos la limpieza del dataset y lo exportamos en un csv para utilizarlo en el entrenamiento."
   ]
  },
  {
   "cell_type": "code",
   "execution_count": null,
   "id": "0b58614e",
   "metadata": {},
   "outputs": [],
   "source": [
    "# Eliminamos los IDs\n",
    "full.drop(['resultId', 'raceId', 'driverId', 'constructorId', 'qualifyId', 'circuitId', ], axis=1, inplace=True)\n",
    "# Ponemos la variable de salida al final del dataset\n",
    "full = full[[c for c in full if c not in ['is_podium']] + ['is_podium']]\n",
    "full.head()"
   ]
  },
  {
   "cell_type": "code",
   "execution_count": null,
   "id": "66c6d5e5",
   "metadata": {},
   "outputs": [],
   "source": [
    "full.to_csv('f1_race_podiums.csv', index=False)"
   ]
  }
 ],
 "metadata": {
  "kernelspec": {
   "display_name": "Python 3 (ipykernel)",
   "language": "python",
   "name": "python3"
  },
  "language_info": {
   "codemirror_mode": {
    "name": "ipython",
    "version": 3
   },
   "file_extension": ".py",
   "mimetype": "text/x-python",
   "name": "python",
   "nbconvert_exporter": "python",
   "pygments_lexer": "ipython3",
   "version": "3.10.6"
  }
 },
 "nbformat": 4,
 "nbformat_minor": 5
}
