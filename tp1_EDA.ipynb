{
 "cells": [
  {
   "cell_type": "code",
   "execution_count": null,
   "id": "15d89aa5",
   "metadata": {},
   "outputs": [],
   "source": [
    "# Importamos las librerías que vamos a utilizar\n",
    "import numpy as np\n",
    "import pandas as pd\n",
    "import matplotlib.pyplot as plt\n",
    "import seaborn as sns\n",
    "import plotly\n",
    "import plotly.express as px\n",
    "import sklearn_pandas\n",
    "from matplotlib import gridspec\n",
    "from datetime import datetime"
   ]
  },
  {
   "cell_type": "code",
   "execution_count": null,
   "id": "602ca917",
   "metadata": {},
   "outputs": [],
   "source": [
    "# Quitamos el límite de columnas y filas que se muestran en los dataframes\n",
    "pd.set_option('display.max_columns', None)\n",
    "pd.set_option('display.max_rows', None)"
   ]
  },
  {
   "cell_type": "code",
   "execution_count": null,
   "id": "86cc6dd9",
   "metadata": {},
   "outputs": [],
   "source": [
    "# Importamos los csvs que vamos a utilizar\n",
    "races = pd.read_csv('./csvs/races.csv')\n",
    "circuits = pd.read_csv('./csvs/circuits.csv')\n",
    "results = pd.read_csv('./csvs/results.csv')\n",
    "driver_standings = pd.read_csv('./csvs/driver_standings.csv')\n",
    "constructor_standings = pd.read_csv('./csvs/constructor_standings.csv')\n",
    "qualifying = pd.read_csv('./csvs/qualifying.csv')"
   ]
  },
  {
   "cell_type": "code",
   "execution_count": null,
   "id": "2656880e",
   "metadata": {},
   "outputs": [],
   "source": [
    "# Eliminamos las columnas que no vamos a utilizar en cada dataset\n",
    "races.drop(['year', 'round', 'name', 'url', 'fp1_date', 'fp1_time','fp2_date', 'fp2_time','fp3_date',\n",
    "            'fp3_time', 'quali_date', 'quali_time', 'sprint_date', 'sprint_time'], axis=1, inplace=True)\n",
    "\n",
    "circuits.drop(['name', 'location', 'country', 'lat', 'lng', 'url'], axis=1, inplace=True)\n",
    "\n",
    "results.drop(['number', 'position', 'positionText', 'points', 'laps', 'time', 'milliseconds', 'fastestLap', \n",
    "           'fastestLapTime', 'fastestLapSpeed', 'statusId', 'rank'], axis=1, inplace=True)\n",
    "\n",
    "driver_standings.drop(['positionText'], axis=1, inplace=True)\n",
    "\n",
    "constructor_standings.drop(['positionText'], axis=1, inplace=True)\n",
    "\n",
    "qualifying.drop(['number'], axis=1, inplace=True)"
   ]
  },
  {
   "cell_type": "code",
   "execution_count": null,
   "id": "e447fda6",
   "metadata": {},
   "outputs": [],
   "source": [
    "# Seteamos como índice de los dataframes la columna por la que vamos a realizar joins\n",
    "races.set_index('raceId')\n",
    "circuits.set_index('circuitId')\n",
    "results.set_index('raceId')\n",
    "driver_standings.set_index('raceId')\n",
    "constructor_standings.set_index('raceId')\n",
    "qualifying.set_index('raceId')"
   ]
  },
  {
   "cell_type": "code",
   "execution_count": null,
   "id": "7a3b8f6d",
   "metadata": {},
   "outputs": [],
   "source": [
    "# Cambiamos nombres de columnas para identificarlos mejor\n",
    "qualifying.rename(columns = {'position':'q_position'}, inplace = True)\n",
    "driver_standings.rename(columns = {'points':'ds_points', 'position':'ds_position', 'wins':'ds_wins'}, inplace = True)\n",
    "constructor_standings.rename(columns = {'points':'cs_points', 'position':'cs_position', 'wins':'cs_wins'}, inplace = True)\n",
    "circuits.rename(columns = {'alt':'altitud'}, inplace = True)"
   ]
  },
  {
   "cell_type": "code",
   "execution_count": null,
   "id": "86f34ef1",
   "metadata": {},
   "outputs": [],
   "source": [
    "full = pd.merge(results, qualifying, how='inner', on=['raceId', 'driverId', 'constructorId']).merge(\n",
    "    driver_standings, how='inner', on=['raceId', 'driverId']).merge(\n",
    "    constructor_standings, how='inner', on=['raceId', 'constructorId']).merge(races, how='inner', on=['raceId']).merge(\n",
    "    circuits, how='inner', on=['circuitId'])"
   ]
  },
  {
   "cell_type": "code",
   "execution_count": null,
   "id": "eaa32710",
   "metadata": {},
   "outputs": [],
   "source": [
    "full.head()"
   ]
  },
  {
   "cell_type": "code",
   "execution_count": null,
   "id": "4ea7b8db",
   "metadata": {},
   "outputs": [],
   "source": [
    "full.shape"
   ]
  },
  {
   "cell_type": "code",
   "execution_count": null,
   "id": "715bc389",
   "metadata": {},
   "outputs": [],
   "source": [
    "full.dtypes"
   ]
  },
  {
   "cell_type": "code",
   "execution_count": null,
   "id": "cfd723db",
   "metadata": {},
   "outputs": [],
   "source": [
    "full['positionOrder'].isnull().values.any()"
   ]
  },
  {
   "cell_type": "code",
   "execution_count": null,
   "id": "02631603",
   "metadata": {},
   "outputs": [],
   "source": [
    "# Creamos la columna 'is_podium' que es el target a predecir a partir de los datos que tenemos en positionOrder\n",
    "full['is_podium'] = np.where(full['positionOrder'] <= 3, 1, 0)\n",
    "full.drop(['positionOrder'], axis=1, inplace=True)\n",
    "full.head()"
   ]
  },
  {
   "cell_type": "code",
   "execution_count": null,
   "id": "fe7c06d6",
   "metadata": {},
   "outputs": [],
   "source": [
    "full.shape"
   ]
  },
  {
   "cell_type": "code",
   "execution_count": null,
   "id": "a4f5dfb9",
   "metadata": {},
   "outputs": [],
   "source": [
    "full.dtypes"
   ]
  },
  {
   "cell_type": "code",
   "execution_count": null,
   "id": "e47f9b54",
   "metadata": {},
   "outputs": [],
   "source": [
    "# Gráfico de torta para ver el balanceo de la variable de salida\n",
    "full.is_podium.value_counts().plot.pie(autopct='%.2f',figsize=(6,6), labels=['No está en el podio', 'Está en el podio'], ylabel='Cant.')"
   ]
  },
  {
   "cell_type": "code",
   "execution_count": null,
   "id": "d81900ec",
   "metadata": {},
   "outputs": [],
   "source": [
    "full.head()"
   ]
  },
  {
   "cell_type": "code",
   "execution_count": null,
   "id": "0c612d3f",
   "metadata": {},
   "outputs": [],
   "source": [
    "px.histogram(full, x='grid', title='Distribución posición de salida')"
   ]
  },
  {
   "cell_type": "code",
   "execution_count": null,
   "id": "c3c81dc3",
   "metadata": {},
   "outputs": [],
   "source": [
    "px.histogram(full, x='grid', color='is_podium', title='Distribución', barmode='group', labels=['Podio','No podio'])"
   ]
  },
  {
   "cell_type": "code",
   "execution_count": null,
   "id": "b7115a18",
   "metadata": {},
   "outputs": [],
   "source": [
    "px.histogram(full, x='q_position', title='Distribución posición final clasificación')"
   ]
  },
  {
   "cell_type": "code",
   "execution_count": null,
   "id": "800aff5b",
   "metadata": {
    "scrolled": false
   },
   "outputs": [],
   "source": [
    "px.histogram(full, x='q_position', color='is_podium', title='Distribución', barmode='group', labels=['Podio','No podio'])"
   ]
  },
  {
   "cell_type": "code",
   "execution_count": null,
   "id": "c5f52562",
   "metadata": {},
   "outputs": [],
   "source": [
    "def datetime_to_seconds(laptime: str) -> int:\n",
    "    if laptime == '\\\\N' or laptime == 'nan':\n",
    "        return 0\n",
    "    time_format = \"%M:%S.%f\"\n",
    "    dt = datetime.strptime(laptime, time_format)\n",
    "    seconds = dt.minute * 60 + dt.second + dt.microsecond / 1_000_000\n",
    "    return int(seconds * 1000)"
   ]
  },
  {
   "cell_type": "code",
   "execution_count": null,
   "id": "d019af86",
   "metadata": {},
   "outputs": [],
   "source": [
    "full['q1'] = full['q1'].astype(str) # verificar si hace falta esta linea\n",
    "full['q1_ms'] = np.vectorize(datetime_to_seconds)(full['q1'])\n",
    "full.head()"
   ]
  },
  {
   "cell_type": "code",
   "execution_count": null,
   "id": "532f616f",
   "metadata": {},
   "outputs": [],
   "source": [
    "px.histogram(full, x='q1_ms', title='title')"
   ]
  },
  {
   "cell_type": "code",
   "execution_count": null,
   "id": "cc549ab0",
   "metadata": {},
   "outputs": [],
   "source": [
    "px.histogram(full, x='q1_ms', color='is_podium', title='Distribución', barmode='group', labels=['Podio','No podio'])"
   ]
  },
  {
   "cell_type": "code",
   "execution_count": null,
   "id": "c9fb8a11",
   "metadata": {},
   "outputs": [],
   "source": [
    "full['q2'] = full['q2'].astype(str) # verificar si hace falta esta linea\n",
    "full['q2_ms'] = np.vectorize(datetime_to_seconds)(full['q2'])\n",
    "full.head()"
   ]
  },
  {
   "cell_type": "code",
   "execution_count": null,
   "id": "44e6b34a",
   "metadata": {},
   "outputs": [],
   "source": [
    "px.histogram(full, x='q2_ms', title='title')"
   ]
  },
  {
   "cell_type": "code",
   "execution_count": null,
   "id": "61155216",
   "metadata": {},
   "outputs": [],
   "source": [
    "px.histogram(full, x='q2_ms', color='is_podium', title='Distribución', barmode='group', labels=['Podio','No podio'])"
   ]
  },
  {
   "cell_type": "code",
   "execution_count": null,
   "id": "7ad315bc",
   "metadata": {},
   "outputs": [],
   "source": [
    "full['q3'] = full['q3'].astype(str) # verificar si hace falta esta linea\n",
    "full['q3_ms'] = np.vectorize(datetime_to_seconds)(full['q3'])\n",
    "full.head()"
   ]
  },
  {
   "cell_type": "code",
   "execution_count": null,
   "id": "d0b551a8",
   "metadata": {},
   "outputs": [],
   "source": [
    "px.histogram(full, x='q3_ms', title='title')"
   ]
  },
  {
   "cell_type": "code",
   "execution_count": null,
   "id": "adc3f303",
   "metadata": {},
   "outputs": [],
   "source": [
    "px.histogram(full, x='q3_ms', color='is_podium', title='Distribución', barmode='group', labels=['Podio','No podio'])"
   ]
  }
 ],
 "metadata": {
  "kernelspec": {
   "display_name": "Python 3 (ipykernel)",
   "language": "python",
   "name": "python3"
  },
  "language_info": {
   "codemirror_mode": {
    "name": "ipython",
    "version": 3
   },
   "file_extension": ".py",
   "mimetype": "text/x-python",
   "name": "python",
   "nbconvert_exporter": "python",
   "pygments_lexer": "ipython3",
   "version": "3.10.6"
  }
 },
 "nbformat": 4,
 "nbformat_minor": 5
}
