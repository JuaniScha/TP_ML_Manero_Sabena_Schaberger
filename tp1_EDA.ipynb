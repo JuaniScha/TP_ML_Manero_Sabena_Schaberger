{
 "cells": [
  {
   "cell_type": "markdown",
   "id": "44a6cca0",
   "metadata": {},
   "source": [
    "# TP 1 - Análisis Exploratorio de Datos\n",
    "## Formula 1 World Championship (1950 - 2023)\n",
    "El dataset elegido contiene toda la información acerca de las carreras de Fórmula 1, pilotos, constructores, clasificación, circuitos, tiempos de vuelta, paradas en boxes y campeonatos desde 1950 hasta la última temporada de 2023.\n",
    "El mismo cuenta con 14 archivos csv, de los cuales decidimos usar solamente algunos. Esto se debe a que vamos a tratar de predecir si la posición final del piloto va a estar o no en el podio, por lo que pensamos hacer la predicción en el momento que está finalizada la clasificación, con los datos disponibles hasta ese momento."
   ]
  },
  {
   "cell_type": "markdown",
   "id": "2a62b0a5",
   "metadata": {},
   "source": [
    "### 1) Listado de variables y selección\n",
    "__CSVs y variables de entrada:__\n",
    "Todos estos archivos .csv de los que está compuesto el set de datos tienen columnas con Ids, las cuales utilizaremos a nuestra conveniencia para realizar ‘joins’ entre las distintas tablas. Antes de entrenar, todas las columnas que hacen referencia a Ids serán eliminadas para que no se genere overfitting a partir de estas.\n",
    "\n",
    "#### Variables de entrada\n",
    "\n",
    "__Races.csv__\n",
    "\n",
    "_Variables a usar_\n",
    "- date: indica la fecha de la carrera.\n",
    "- time: indica la hora en que inicia la carrera\n",
    "- year: año en que se realiza la carrera\n",
    "\n",
    "_Variables no usadas_\n",
    "\n",
    "- name: nombre de la carrera que se va a correr, utilizaremos referencias al circuito.\n",
    "- url: url que brinda más información sobre la carrera, no nos parece que influya en lo que vamos a predecir.\n",
    "- fp1_date: fecha de inicio de la práctica libre número uno, no nos parece que influya en lo que vamos a predecir.\n",
    "- fp1_time: hora de inicio de la práctica libre número uno, no nos parece que influya en lo que vamos a predecir.\n",
    "- fp2_date: fecha de inicio de la práctica libre número dos, no nos parece que influya en lo que vamos a predecir.\n",
    "- fp2_time: hora de inicio de la práctica libre número dos, no nos parece que influya en lo que vamos a predecir.\n",
    "- fp3_date: fecha de inicio de la práctica libre número tres, no nos parece que influya en lo que vamos a predecir.\n",
    "- fp3_time: hora de inicio de la práctica libre número tres, no nos parece que influya en lo que vamos a predecir.\n",
    "- quali_date: fecha de inicio de la sesión de clasificación, no nos parece que influya en lo que vamos a predecir.\n",
    "- quali_time: hora de inicio de la sesión de clasificación, no nos parece que influya en lo que vamos a predecir.\n",
    "- sprint_date: fecha de inicio de la carrera sprint, no será usado ya que nos centraremos en la clasificación debido a que no todas las carreras cuentan con sprint.\n",
    "- sprint_time: hora de inicio de la carrera sprint, no será usado ya que nos centraremos en la clasificación debido a que no todas las carreras cuentan con sprint.\n",
    "\n",
    "__Circuits.csv__\n",
    "\n",
    "_Variables a usar_\n",
    "- circuitRef: variable de texto que indica el nombre de referencia del circuito.\n",
    "\n",
    "_Variables no usadas_\n",
    "\n",
    "- name: nombre del circuito, utilizaremos circuitRef.\n",
    "- location: localidad donde se disputa la carrera, no nos parece que influya en lo que vamos a predecir.\n",
    "- country: país donde se disputa la carrera, no nos parece que influya en lo que vamos a predecir\n",
    "- lat: latitud, no nos parece que influya en lo que vamos a predecir. \n",
    "- lng: longitud, no nos parece que influya en lo que vamos a predecir. Además, utilizaremos alt.\n",
    "- url: url que brinda más información sobre el circuito, no nos parece que influya en lo que vamos a predecir.\n",
    "- alt: variable numérica que indica la altitud del circuito, no nos parece que influya en lo que vamos a predecir.\n",
    "\n",
    "__Results.csv__\n",
    "\n",
    "_Variables a usar_\n",
    "- grid: variable numérica que indica la posición de largada.\n",
    "\n",
    "_Variables no usadas_\n",
    "\n",
    "- number: número del auto, no nos parece que influya en lo que vamos a predecir.\n",
    "- position: posición final del corredor en la carrera, no se usará ya que si el corredor no finaliza la carrera, esto se representa con un valor nulo.\n",
    "- positionText: lo mismo que position pero en tipo texto.\n",
    "- points: puntos obtenidos por el corredor al finalizar la carrera, este dato no lo tenemos al momento de predecir.\n",
    "- laps: cantidad de vueltas realizadas por el corredor, este dato no lo tenemos al momento de predecir.\n",
    "- time: tiempo total en la pista, este dato no lo tenemos al momento de predecir.\n",
    "- milliseconds: tiempo total en pista en milisegundos, este dato no lo tenemos al momento de predecir. \n",
    "- fastestLap: número de vuelta de la vuelta más rápida del corredor, este dato no lo tenemos al momento de predecir.\n",
    "- fastestLapTime: tiempo de vuelta, de la vuelta más rápida del corredor, este dato no lo tenemos al momento de predecir.\n",
    "- fastestLapSpeed: velocidad máxima de la vuelta más rápida, este dato no lo tenemos al momento de predecir.\n",
    "- statusId: id que hace referencia al status de finalización de la carrera, no será utilizado ya que no nos resulta relevante y es un dato que no tendremos al momento de hacer la predicción.\n",
    "\n",
    "__Driver_standings.csv__\n",
    "\n",
    "_Variables a usar_\n",
    "\n",
    "- position (_ds_position_): variable numérica que indica la posición del corredor en el campeonato de corredores una vez finalizada una carrera, utilizaremos este dato pero de la carrera anterior.\n",
    "- wins (_ds_wins_): variable numérica que indica la cantidad de victorias en el campeonato una vez finalizada una carrera, utilizaremos este dato pero de la carrera anterior.\n",
    "- points (_ds_points_): variable numérica que indica la cantidad de puntos acumulados que tiene el corredor una vez finalizada una carrera, utilizaremos este dato pero de la carrera anterior.\n",
    "\n",
    "_Variables no usadas_\n",
    "\n",
    "- positionText: variable de texto que indica la posición del corredor en el campeonato pero en tipo texto, usaremos la variable numérica.\n",
    "\n",
    "__Constructor_standings.csv__\n",
    "\n",
    "_Variables a usar_\n",
    "\n",
    "- position (_cs_position_): variable numérica que indica la posición del equipo en el campeonato de constructores una vez finalizada una carrera, utilizaremos este dato pero de la carrera anterior.\n",
    "- wins (_cs_wins_): variable numérica que indica la cantidad de victorias del equipo en el campeonato de constructores una vez finalizada una carrera, utilizaremos este dato pero de la carrera anterior.\n",
    "- points (_cs_points_): variable numérica que indica la cantidad de puntos acumulados que tiene el equipo una vez finalizada una carrera, utilizaremos este dato pero de la carrera anterior.\n",
    "\n",
    "_Variables no usadas_\n",
    "\n",
    "- positionText: variable de texto que indica la posición del equipo en el campeonato de constructores pero en tipo texto, usaremos la variable numérica.\n",
    "\n",
    "__Qualifying.csv__\n",
    "\n",
    "_Variables a usar_\n",
    "\n",
    "- position (_q_position_): variable numérica que indica la posición en la que finaliza el corredor la sesión de clasificación\n",
    "- q1 (_q1_ms_): variable numérica que indica el tiempo en clasificación q1.\n",
    "- q2 (_q2_ms_): variable numérica que indica el tiempo en clasificación q2.\n",
    "- q3 (_q3_ms_): variable numérica que indica el tiempo en clasificación q3.\n",
    "\n",
    "_Variables no usadas_\n",
    "\n",
    "- number: número del auto, no nos parece que influya en lo que vamos a predecir.\n",
    "\n",
    "___CSVs que no se utilizarán:___\n",
    "\n",
    "* _constructor_results_: no se utilizará ninguna variable de esta tabla ya que son datos que no están disponibles al momento que vamos a realizar la predicción.\n",
    "* _constructors_: no se utilizará ninguna variable de esta tabla ya que indican información general sobre los constructores y no creemos que sea relevante.\n",
    "* _drivers_: no se utilizará ninguna variable de esta tabla ya que indican información general sobre los corredores y no creemos que sea relevante.\n",
    "* _lap_times_: no se utilizará ninguna variable de esta tabla ya que son datos que no están disponibles al momento que vamos a realizar la predicción.\n",
    "* _pit_stops_: no se utilizará ninguna variable de esta tabla ya que son datos que no están disponibles al momento que vamos a realizar la predicción.\n",
    "* _seasons_: no se utilizará ninguna variable de esta tabla ya que indican información general sobre las temporadas  y no creemos que sea relevante.\n",
    "* _sprint_results_: no se utilizará ninguna variable de esta tabla ya que indican tiempos de la carrera sprint y son datos que no estarán disponibles al momento de la predicción.\n",
    "* _status_: mapea el id de los distintos estados en los que se puede finalizar una carrera. No lo utilizaremos ya que son datos que no están disponibles al momento de la predicción.\n",
    "\n",
    "#### Variable de salida\n",
    "___is_podium___: esta variable sale del csv de “results”, se va a transformar la columna “positionOrder” la cual hace referencia a la posición final del corredor en la carrera. “is_podium” es una variable _binaria_ que va a determinar si el piloto va a estar en el podio (primer, segundo y tercer puesto). Los valores que puede tener son _0_ que indica que el corredor no está en el podio y _1_ si el mismo se encuentra en el podio."
   ]
  },
  {
   "cell_type": "code",
   "execution_count": null,
   "id": "15d89aa5",
   "metadata": {},
   "outputs": [],
   "source": [
    "# Importamos las dependencias que vamos a utilizar\n",
    "import numpy as np\n",
    "import pandas as pd\n",
    "import matplotlib.pyplot as plt\n",
    "import seaborn as sns\n",
    "import plotly\n",
    "import plotly.express as px\n",
    "import sklearn_pandas\n",
    "from matplotlib import gridspec\n",
    "from datetime import datetime"
   ]
  },
  {
   "cell_type": "code",
   "execution_count": null,
   "id": "602ca917",
   "metadata": {},
   "outputs": [],
   "source": [
    "# Quitamos el límite de columnas y filas que se muestran en los dataframes\n",
    "pd.set_option('display.max_columns', None)\n",
    "pd.set_option('display.max_rows', None)"
   ]
  },
  {
   "cell_type": "code",
   "execution_count": null,
   "id": "86cc6dd9",
   "metadata": {},
   "outputs": [],
   "source": [
    "# Importamos los csvs que vamos a utilizar\n",
    "races = pd.read_csv('./csvs/races.csv')\n",
    "circuits = pd.read_csv('./csvs/circuits.csv')\n",
    "results = pd.read_csv('./csvs/results.csv')\n",
    "driver_standings = pd.read_csv('./csvs/driver_standings.csv')\n",
    "constructor_standings = pd.read_csv('./csvs/constructor_standings.csv')\n",
    "qualifying = pd.read_csv('./csvs/qualifying.csv')"
   ]
  },
  {
   "cell_type": "code",
   "execution_count": null,
   "id": "2656880e",
   "metadata": {},
   "outputs": [],
   "source": [
    "# Eliminamos las columnas que no vamos a utilizar en cada dataset antes de hacer los merges\n",
    "races.drop(['round', 'name', 'url', 'fp1_date', 'fp1_time','fp2_date', 'fp2_time','fp3_date',\n",
    "            'fp3_time', 'quali_date', 'quali_time', 'sprint_date', 'sprint_time'], axis=1, inplace=True)\n",
    "\n",
    "circuits.drop(['name', 'location', 'country', 'lat', 'lng', 'url', 'alt'], axis=1, inplace=True)\n",
    "\n",
    "results.drop(['number', 'position', 'positionText', 'points', 'laps', 'time', 'milliseconds', 'fastestLap', \n",
    "           'fastestLapTime', 'fastestLapSpeed', 'statusId', 'rank'], axis=1, inplace=True)\n",
    "\n",
    "driver_standings.drop(['positionText'], axis=1, inplace=True)\n",
    "\n",
    "constructor_standings.drop(['positionText'], axis=1, inplace=True)\n",
    "\n",
    "qualifying.drop(['number'], axis=1, inplace=True)"
   ]
  },
  {
   "cell_type": "code",
   "execution_count": null,
   "id": "7a3b8f6d",
   "metadata": {},
   "outputs": [],
   "source": [
    "# Cambiamos nombres de columnas para identificarlos mejor\n",
    "qualifying.rename(columns = {'position':'q_position'}, inplace = True)\n",
    "driver_standings.rename(columns = {'points':'ds_points', 'position':'ds_position', 'wins':'ds_wins'}, inplace = True)\n",
    "constructor_standings.rename(columns = {'points':'cs_points', 'position':'cs_position', 'wins':'cs_wins'}, inplace = True)"
   ]
  },
  {
   "cell_type": "code",
   "execution_count": null,
   "id": "86f34ef1",
   "metadata": {},
   "outputs": [],
   "source": [
    "# Merge de los datos que no requieren ser calculados a partir de otros\n",
    "full = pd.merge(results, qualifying, how='inner', on=['raceId', 'driverId', 'constructorId']).merge(\n",
    "    races, how='inner', on=['raceId']).merge(\n",
    "    circuits, how='inner', on=['circuitId'])"
   ]
  },
  {
   "cell_type": "markdown",
   "id": "483173af",
   "metadata": {},
   "source": [
    "Como se indicó previamente, las tablas _driver_standings_ y _constructor_standings_ contienen las variables _points_, _wins_ y _position_, que son datos obtenidos una vez finalizada la carrera correspondiente.\n",
    "\n",
    "Como consideramos que estas son variables de mucho interés, realizamos operaciones sobre estas tablas para obtener los datos de estas columnas de la carrera inmediatamente anterior de la misma season. En resumen, la idea de estas variables es la misma pero usamos los datos al momento previo a la carrera que intentaremos predecir si un corredor estará en el podio.\n",
    "\n",
    "Para hacerlo, agregamos las columnas date y year en driver_standings y constructor standings."
   ]
  },
  {
   "cell_type": "code",
   "execution_count": null,
   "id": "1830ea16",
   "metadata": {},
   "outputs": [],
   "source": [
    "# Agregamos columnas 'date' y 'year' a los dataframes según la carrera correspondiente\n",
    "driver_standings = pd.merge(driver_standings, races[[\"raceId\", \"date\", \"year\"]], on=\"raceId\")\n",
    "constructor_standings = pd.merge(constructor_standings, races[[\"raceId\", \"date\", \"year\"]], on=\"raceId\")\n",
    "\n",
    "# Ordenamos los dataframes a partir de columnas 'driverId'/'constructorId' y 'date'\n",
    "driver_standings = driver_standings.sort_values(by=['driverId', 'date'], ascending=True)\n",
    "constructor_standings = constructor_standings.sort_values(by=[\"constructorId\", \"date\"], ascending=True)\n",
    "\n",
    "# Convertimos campo 'date' de str a datetime\n",
    "driver_standings['date'] = pd.to_datetime(driver_standings['date'])\n",
    "constructor_standings['date'] = pd.to_datetime(constructor_standings['date'])\n",
    "\n",
    "# Usamos el método shift para obtener los valores anteriores (ya se encuentra ordenado)\n",
    "driver_standings['ds_prev_points'] = driver_standings.groupby(['driverId', 'year'])['ds_points'].shift(1)\n",
    "driver_standings['ds_prev_position'] = driver_standings.groupby(['driverId', 'year'])['ds_position'].shift(1)\n",
    "driver_standings['ds_prev_wins'] = driver_standings.groupby(['driverId', 'year'])['ds_wins'].shift(1)\n",
    "\n",
    "constructor_standings['cs_prev_points'] = constructor_standings.groupby(['constructorId', 'year'])['cs_points'].shift(1)\n",
    "constructor_standings['cs_prev_position'] = constructor_standings.groupby(['constructorId', 'year'])['cs_position'].shift(1)\n",
    "constructor_standings['cs_prev_wins'] = constructor_standings.groupby(['constructorId', 'year'])['cs_wins'].shift(1)\n",
    "\n",
    "driver_standings.head()"
   ]
  },
  {
   "cell_type": "code",
   "execution_count": null,
   "id": "76f0064e",
   "metadata": {},
   "outputs": [],
   "source": [
    "# Mergeamos ahora sí 'full' con 'driver_standings' y 'constructor_standings' ya modificados.\n",
    "full = pd.merge(full, driver_standings[['raceId', 'driverId', 'ds_prev_points', 'ds_prev_position', 'ds_prev_wins']], how='inner', on=['raceId', 'driverId']).merge(\n",
    "    constructor_standings[['raceId', 'constructorId', 'cs_prev_points', 'cs_prev_position', 'cs_prev_wins']], how='inner', on=['raceId', 'constructorId'])\n",
    "\n",
    "# Cambiamos algunos nombres de columnas\n",
    "full.rename(columns = {'ds_prev_points':'ds_points','ds_prev_position':'ds_position','ds_prev_wins':'ds_wins',\n",
    "                      'cs_prev_points':'cs_points','cs_prev_position':'cs_position','cs_prev_wins':'cs_wins'}, inplace = True)"
   ]
  },
  {
   "cell_type": "code",
   "execution_count": null,
   "id": "eaa32710",
   "metadata": {},
   "outputs": [],
   "source": [
    "# Consulta para verificar que se haya realizado correctamente\n",
    "full[(full.driverId == 1) & ((full.year == 2022) | (full.year == 2023)| (full.year == 2021))].sort_values('date', ascending=True)"
   ]
  },
  {
   "cell_type": "code",
   "execution_count": null,
   "id": "02631603",
   "metadata": {},
   "outputs": [],
   "source": [
    "# Creamos la columna 'is_podium' que es el target a predecir a partir de los datos que tenemos en positionOrder\n",
    "full['is_podium'] = np.where(full['positionOrder'] <= 3, 1, 0)\n",
    "full.drop(['positionOrder'], axis=1, inplace=True)\n",
    "full.head()"
   ]
  },
  {
   "cell_type": "code",
   "execution_count": null,
   "id": "895113eb",
   "metadata": {},
   "outputs": [],
   "source": [
    "print('Dimensiones: ', full.shape)\n",
    "print('Dimensiones sin columnas ID: ',\n",
    "      full[['grid', 'q_position', 'q1', 'q2', 'q3', 'year', 'date', 'time', 'circuitRef', 'ds_points', 'ds_wins', 'ds_position',\n",
    "            'cs_points', 'cs_wins', 'cs_position', 'is_podium']].shape)\n",
    "full.dtypes"
   ]
  },
  {
   "cell_type": "markdown",
   "id": "74bb25e1",
   "metadata": {},
   "source": [
    "### 2) Análisis detallado de un conjunto de variables\n",
    "#### 2.1 Balanceo de la variable de salida"
   ]
  },
  {
   "cell_type": "code",
   "execution_count": null,
   "id": "e47f9b54",
   "metadata": {},
   "outputs": [],
   "source": [
    "# Gráfico de torta para ver el balanceo de la variable de salida\n",
    "full.is_podium.value_counts().plot.pie(autopct='%.2f',figsize=(6,6), labels=['No está en el podio', 'Está en el podio'], ylabel='Cant.')"
   ]
  },
  {
   "cell_type": "markdown",
   "id": "56c33b83",
   "metadata": {},
   "source": [
    "En el gráfico de torta se puede observar que del total de los datos de las carreras que se encuentran en nuestro dataset, el 14.42% de los corredores se encuentran en el podio, mientras que el 85.58% no se encuentra en el mismo. \n",
    "A la hora de entrenar y medir el rendimiento del modelo, este podría realizar underfitting (no aprenderá a generalizar, podría decir que nunca hará podium para todos los casos y obtendría una exactitud del 85.58%) ya que la mayoría de los casos no se encuentra en el podio."
   ]
  },
  {
   "cell_type": "markdown",
   "id": "7305aec9",
   "metadata": {},
   "source": [
    "#### 2.2) Comportamiento de variables de entrada y su relación con la variable de salida\n",
    "_Variables de entrada a analizar:_\n",
    "\n",
    "- grid\n",
    "- q_position\n",
    "- q1_ms\n",
    "- q2_ms\n",
    "- q3_ms"
   ]
  },
  {
   "cell_type": "code",
   "execution_count": null,
   "id": "0c612d3f",
   "metadata": {},
   "outputs": [],
   "source": [
    "px.histogram(full, x='grid', title='Distribución posición de salida', autor)"
   ]
  },
  {
   "cell_type": "code",
   "execution_count": null,
   "id": "c3c81dc3",
   "metadata": {},
   "outputs": [],
   "source": [
    "px.histogram(full, x='grid', color='is_podium', title='Distribución', barmode='group', labels=['Podio','No podio'])"
   ]
  },
  {
   "cell_type": "code",
   "execution_count": null,
   "id": "b7115a18",
   "metadata": {},
   "outputs": [],
   "source": [
    "px.histogram(full, x='q_position', title='Distribución posición final clasificación')"
   ]
  },
  {
   "cell_type": "code",
   "execution_count": null,
   "id": "800aff5b",
   "metadata": {
    "scrolled": false
   },
   "outputs": [],
   "source": [
    "px.histogram(full, x='q_position', color='is_podium', title='Distribución', barmode='group', labels=['Podio','No podio'])"
   ]
  },
  {
   "cell_type": "code",
   "execution_count": null,
   "id": "c5f52562",
   "metadata": {},
   "outputs": [],
   "source": [
    "def datetime_to_seconds(laptime: str) -> float:\n",
    "    if laptime == '\\\\N' or laptime == 'nan':\n",
    "        return np.nan\n",
    "    time_format = \"%M:%S.%f\"\n",
    "    dt = datetime.strptime(laptime, time_format)\n",
    "    seconds = dt.minute * 60 + dt.second + dt.microsecond / 1_000_000\n",
    "    return float(seconds * 1000)"
   ]
  },
  {
   "cell_type": "code",
   "execution_count": null,
   "id": "d019af86",
   "metadata": {},
   "outputs": [],
   "source": [
    "full['q1'] = full['q1'].astype(str)\n",
    "full['q1_ms'] = np.vectorize(datetime_to_seconds)(full['q1'])\n",
    "full.head()"
   ]
  },
  {
   "cell_type": "code",
   "execution_count": null,
   "id": "532f616f",
   "metadata": {},
   "outputs": [],
   "source": [
    "px.histogram(full, x='q1_ms', title='title')\n",
    "# px.histogram(full[(full.circuitRef == 'albert_park') & (full.year == 2022)], x='q1_ms', title='title')"
   ]
  },
  {
   "cell_type": "code",
   "execution_count": null,
   "id": "cc549ab0",
   "metadata": {},
   "outputs": [],
   "source": [
    "px.histogram(full, x='q1_ms', color='is_podium', title='Distribución', barmode='group', labels=['Podio','No podio'])"
   ]
  },
  {
   "cell_type": "code",
   "execution_count": null,
   "id": "c9fb8a11",
   "metadata": {},
   "outputs": [],
   "source": [
    "full['q2'] = full['q2'].astype(str) # verificar si hace falta esta linea\n",
    "full['q2_ms'] = np.vectorize(datetime_to_seconds)(full['q2'])\n",
    "full.head()"
   ]
  },
  {
   "cell_type": "code",
   "execution_count": null,
   "id": "44e6b34a",
   "metadata": {},
   "outputs": [],
   "source": [
    "px.histogram(full, x='q2_ms', title='title')"
   ]
  },
  {
   "cell_type": "code",
   "execution_count": null,
   "id": "61155216",
   "metadata": {},
   "outputs": [],
   "source": [
    "px.histogram(full, x='q2_ms', color='is_podium', title='Distribución', barmode='group', labels=['Podio','No podio'])"
   ]
  },
  {
   "cell_type": "code",
   "execution_count": null,
   "id": "7ad315bc",
   "metadata": {},
   "outputs": [],
   "source": [
    "full['q3'] = full['q3'].astype(str) # verificar si hace falta esta linea\n",
    "full['q3_ms'] = np.vectorize(datetime_to_seconds)(full['q3'])\n",
    "full.head()"
   ]
  },
  {
   "cell_type": "code",
   "execution_count": null,
   "id": "d0b551a8",
   "metadata": {},
   "outputs": [],
   "source": [
    "px.histogram(full, x='q3_ms', title='title')"
   ]
  },
  {
   "cell_type": "code",
   "execution_count": null,
   "id": "adc3f303",
   "metadata": {
    "scrolled": false
   },
   "outputs": [],
   "source": [
    "px.histogram(full, x='q3_ms', color='is_podium', title='Distribución', barmode='group', labels=['Podio','No podio'])"
   ]
  },
  {
   "cell_type": "code",
   "execution_count": null,
   "id": "b7b8919a",
   "metadata": {},
   "outputs": [],
   "source": [
    "full[['q1_ms', 'q2_ms', 'q3_ms']].isnull().sum()"
   ]
  },
  {
   "cell_type": "code",
   "execution_count": null,
   "id": "7d9261eb",
   "metadata": {},
   "outputs": [],
   "source": [
    "# Sacamos columnas q1, q2 y q3 ya que utilizaremos la columna pasada a milisegundos.\n",
    "full.drop(['q1', 'q2', 'q3'], axis=1, inplace=True)"
   ]
  },
  {
   "cell_type": "code",
   "execution_count": null,
   "id": "ccfe2a5b",
   "metadata": {
    "scrolled": true
   },
   "outputs": [],
   "source": [
    "# En el dataset se indican los valores no registrados (nulos) como '\\N'. Para hacer un mejor análisis los pasamos a None o NaN\n",
    "full['time'] = full['time'].replace('\\\\N', None)"
   ]
  },
  {
   "cell_type": "code",
   "execution_count": null,
   "id": "a3f09e6b",
   "metadata": {},
   "outputs": [],
   "source": [
    "# Analisis valores nulos\n",
    "full.isnull().sum()"
   ]
  },
  {
   "cell_type": "code",
   "execution_count": null,
   "id": "453e496a",
   "metadata": {},
   "outputs": [],
   "source": [
    "# Analisis valores extremos\n",
    "px.box(full, y='q1_ms')"
   ]
  },
  {
   "cell_type": "code",
   "execution_count": null,
   "id": "9aad207c",
   "metadata": {},
   "outputs": [],
   "source": [
    "px.box(full, y='q2_ms')"
   ]
  },
  {
   "cell_type": "code",
   "execution_count": null,
   "id": "77b6aaae",
   "metadata": {},
   "outputs": [],
   "source": [
    "px.box(full, y='q3_ms')"
   ]
  },
  {
   "cell_type": "code",
   "execution_count": null,
   "id": "47654e2e",
   "metadata": {},
   "outputs": [],
   "source": [
    "# Valor extremo encontrado en los tiempos de vuelta de q1 en milisegundos\n",
    "full[full.q1_ms > 1000000]"
   ]
  },
  {
   "cell_type": "code",
   "execution_count": null,
   "id": "67c5fad8",
   "metadata": {},
   "outputs": [],
   "source": [
    "# Heatmap\n",
    "# Armo un df nuevo quitando IDs\n",
    "final = full[['grid', 'q_position', 'ds_points', 'ds_position', 'ds_wins',\n",
    "              'cs_points', 'cs_position', 'cs_wins', 'q1_ms', 'q2_ms', 'q3_ms', 'is_podium']]\n",
    "final.head()"
   ]
  },
  {
   "cell_type": "code",
   "execution_count": null,
   "id": "7c9d6f4a",
   "metadata": {},
   "outputs": [],
   "source": [
    "px.imshow(final.corr(), text_auto=True, width=800, height=800)"
   ]
  },
  {
   "cell_type": "code",
   "execution_count": null,
   "id": "e0af95c7",
   "metadata": {},
   "outputs": [],
   "source": [
    "#Hipótesis 1\n",
    "#Una mejor posición de salida (grid) es más importante que la posición de clasificación (q_position) para acabar en el podio.\n",
    "\n",
    "f, ax = plt.subplots(1, 2, figsize=(16, 12))\n",
    "ax[0].set_title('% de podios por posición de salida (grid)')\n",
    "full[(full.is_podium == 1) & ((full.grid >= 1) & (full.grid <= 20))].grid.value_counts().plot.pie(ax=ax[0],autopct='%1.1f%%')\n",
    "ax[1].set_title('% de podios por posición de clasificación (q_position)')\n",
    "full[(full.is_podium == 1) & ((full.q_position >= 1) & (full.q_position <= 20))].q_position.value_counts().plot.pie(ax=ax[1],autopct='%1.1f%%')"
   ]
  },
  {
   "cell_type": "code",
   "execution_count": null,
   "id": "2615a2e4",
   "metadata": {},
   "outputs": [],
   "source": []
  }
 ],
 "metadata": {
  "kernelspec": {
   "display_name": "Python 3 (ipykernel)",
   "language": "python",
   "name": "python3"
  },
  "language_info": {
   "codemirror_mode": {
    "name": "ipython",
    "version": 3
   },
   "file_extension": ".py",
   "mimetype": "text/x-python",
   "name": "python",
   "nbconvert_exporter": "python",
   "pygments_lexer": "ipython3",
   "version": "3.10.6"
  }
 },
 "nbformat": 4,
 "nbformat_minor": 5
}
