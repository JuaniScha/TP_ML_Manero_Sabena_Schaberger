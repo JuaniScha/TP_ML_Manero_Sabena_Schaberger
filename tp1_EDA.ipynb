{
 "cells": [
  {
   "cell_type": "code",
   "execution_count": 1,
   "id": "15d89aa5",
   "metadata": {},
   "outputs": [],
   "source": [
    "# Importamos las librerías que vamos a utilizar\n",
    "import numpy as np\n",
    "import pandas as pd\n",
    "import matplotlib.pyplot as plt\n",
    "import seaborn as sns\n",
    "import plotly\n",
    "import plotly.express as px\n",
    "import sklearn_pandas\n",
    "from matplotlib import gridspec"
   ]
  },
  {
   "cell_type": "code",
   "execution_count": 2,
   "id": "602ca917",
   "metadata": {},
   "outputs": [],
   "source": [
    "pd.set_option('display.max_columns', None)\n",
    "pd.set_option('display.max_rows', None)"
   ]
  },
  {
   "cell_type": "code",
   "execution_count": 23,
   "id": "86cc6dd9",
   "metadata": {},
   "outputs": [],
   "source": [
    "races = pd.read_csv('./csvs/races.csv')\n",
    "circuits = pd.read_csv('./csvs/circuits.csv')\n",
    "results = pd.read_csv('./csvs/results.csv')\n",
    "driver_standings = pd.read_csv('./csvs/driver_standings.csv')\n",
    "constructor_standings = pd.read_csv('./csvs/constructor_standings.csv')\n",
    "qualifying = pd.read_csv('./csvs/qualifying.csv')"
   ]
  },
  {
   "cell_type": "code",
   "execution_count": 24,
   "id": "2656880e",
   "metadata": {},
   "outputs": [],
   "source": [
    "# df.drop(['column_nameA', 'column_nameB'], axis=1, inplace=True)\n",
    "races.drop(['year', 'round', 'name', 'url', 'fp1_date', 'fp1_time','fp2_date', 'fp2_time','fp3_date',\n",
    "            'fp3_time', 'quali_date', 'quali_time', 'sprint_date', 'sprint_time'], axis=1, inplace=True)\n",
    "\n",
    "circuits.drop(['name', 'location', 'country', 'lat', 'lng', 'url'], axis=1, inplace=True)\n",
    "\n",
    "results.drop(['number', 'position', 'positionText', 'points', 'laps', 'time', 'milliseconds', 'fastestLap', \n",
    "           'fastestLapTime', 'fastestLapSpeed', 'statusId', 'rank'], axis=1, inplace=True)\n",
    "\n",
    "driver_standings.drop(['positionText'], axis=1, inplace=True)\n",
    "\n",
    "constructor_standings.drop(['positionText'], axis=1, inplace=True)\n",
    "\n",
    "qualifying.drop(['number'], axis=1, inplace=True)"
   ]
  },
  {
   "cell_type": "code",
   "execution_count": 26,
   "id": "a2bee023",
   "metadata": {
    "scrolled": true
   },
   "outputs": [
    {
     "data": {
      "text/html": [
       "<div>\n",
       "<style scoped>\n",
       "    .dataframe tbody tr th:only-of-type {\n",
       "        vertical-align: middle;\n",
       "    }\n",
       "\n",
       "    .dataframe tbody tr th {\n",
       "        vertical-align: top;\n",
       "    }\n",
       "\n",
       "    .dataframe thead th {\n",
       "        text-align: right;\n",
       "    }\n",
       "</style>\n",
       "<table border=\"1\" class=\"dataframe\">\n",
       "  <thead>\n",
       "    <tr style=\"text-align: right;\">\n",
       "      <th></th>\n",
       "      <th>resultId</th>\n",
       "      <th>raceId</th>\n",
       "      <th>driverId</th>\n",
       "      <th>constructorId</th>\n",
       "      <th>grid</th>\n",
       "      <th>positionOrder</th>\n",
       "    </tr>\n",
       "  </thead>\n",
       "  <tbody>\n",
       "    <tr>\n",
       "      <th>0</th>\n",
       "      <td>1</td>\n",
       "      <td>18</td>\n",
       "      <td>1</td>\n",
       "      <td>1</td>\n",
       "      <td>1</td>\n",
       "      <td>1</td>\n",
       "    </tr>\n",
       "    <tr>\n",
       "      <th>1</th>\n",
       "      <td>2</td>\n",
       "      <td>18</td>\n",
       "      <td>2</td>\n",
       "      <td>2</td>\n",
       "      <td>5</td>\n",
       "      <td>2</td>\n",
       "    </tr>\n",
       "    <tr>\n",
       "      <th>2</th>\n",
       "      <td>3</td>\n",
       "      <td>18</td>\n",
       "      <td>3</td>\n",
       "      <td>3</td>\n",
       "      <td>7</td>\n",
       "      <td>3</td>\n",
       "    </tr>\n",
       "    <tr>\n",
       "      <th>3</th>\n",
       "      <td>4</td>\n",
       "      <td>18</td>\n",
       "      <td>4</td>\n",
       "      <td>4</td>\n",
       "      <td>11</td>\n",
       "      <td>4</td>\n",
       "    </tr>\n",
       "    <tr>\n",
       "      <th>4</th>\n",
       "      <td>5</td>\n",
       "      <td>18</td>\n",
       "      <td>5</td>\n",
       "      <td>1</td>\n",
       "      <td>3</td>\n",
       "      <td>5</td>\n",
       "    </tr>\n",
       "  </tbody>\n",
       "</table>\n",
       "</div>"
      ],
      "text/plain": [
       "   resultId  raceId  driverId  constructorId  grid  positionOrder\n",
       "0         1      18         1              1     1              1\n",
       "1         2      18         2              2     5              2\n",
       "2         3      18         3              3     7              3\n",
       "3         4      18         4              4    11              4\n",
       "4         5      18         5              1     3              5"
      ]
     },
     "execution_count": 26,
     "metadata": {},
     "output_type": "execute_result"
    }
   ],
   "source": [
    "results.head()"
   ]
  },
  {
   "cell_type": "code",
   "execution_count": null,
   "id": "e447fda6",
   "metadata": {},
   "outputs": [],
   "source": [
    "races.set_index('raceId')\n",
    "circuits.set_index('circuitId')\n",
    "results.set_index('raceId')\n",
    "driver_standings.set_index('raceId')\n",
    "constructor_standings.set_index('raceId')\n",
    "qualifying.set_index('raceId')"
   ]
  },
  {
   "cell_type": "code",
   "execution_count": null,
   "id": "86f34ef1",
   "metadata": {},
   "outputs": [],
   "source": [
    "ejemplo_join = pd.merge(results, qualifying, how = 'inner', on=['raceId', 'driverId', 'constructorId'], suffixes=['_1','_2'])"
   ]
  },
  {
   "cell_type": "code",
   "execution_count": null,
   "id": "eaa32710",
   "metadata": {},
   "outputs": [],
   "source": [
    "ejemplo_join.head()"
   ]
  },
  {
   "cell_type": "code",
   "execution_count": null,
   "id": "879284b5",
   "metadata": {},
   "outputs": [],
   "source": [
    "ejemplo_join = ejemplo_join.merge(driver_standings, how='inner', on=['raceId', 'driverId'], suffixes=['_3','_4'])"
   ]
  },
  {
   "cell_type": "code",
   "execution_count": null,
   "id": "edc642c2",
   "metadata": {},
   "outputs": [],
   "source": [
    "ejemplo_join.sample(5)"
   ]
  },
  {
   "cell_type": "code",
   "execution_count": null,
   "id": "6153ec31",
   "metadata": {},
   "outputs": [],
   "source": [
    "ejemplo_join = ejemplo_join.merge(constructor_standings, how='inner', on=['raceId', 'constructorId'], suffixes=['_5','_6'])"
   ]
  },
  {
   "cell_type": "code",
   "execution_count": null,
   "id": "dbe401a8",
   "metadata": {},
   "outputs": [],
   "source": [
    "ejemplo_join.head()"
   ]
  },
  {
   "cell_type": "code",
   "execution_count": null,
   "id": "3c65685f",
   "metadata": {},
   "outputs": [],
   "source": []
  }
 ],
 "metadata": {
  "kernelspec": {
   "display_name": "Python 3 (ipykernel)",
   "language": "python",
   "name": "python3"
  },
  "language_info": {
   "codemirror_mode": {
    "name": "ipython",
    "version": 3
   },
   "file_extension": ".py",
   "mimetype": "text/x-python",
   "name": "python",
   "nbconvert_exporter": "python",
   "pygments_lexer": "ipython3",
   "version": "3.10.6"
  }
 },
 "nbformat": 4,
 "nbformat_minor": 5
}
